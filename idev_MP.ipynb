{
 "cells": [
  {
   "cell_type": "code",
   "execution_count": null,
   "id": "2d4cf002",
   "metadata": {},
   "outputs": [],
   "source": [
    "# import libraries\n",
    "import pdfplumber\n",
    "import pandas as pd \n",
    "import re\n",
    "import os"
   ]
  },
  {
   "cell_type": "markdown",
   "id": "f39c1a20",
   "metadata": {},
   "source": [
    "## Variables"
   ]
  },
  {
   "cell_type": "code",
   "execution_count": null,
   "id": "a8720442",
   "metadata": {},
   "outputs": [],
   "source": [
    "date_pattern = re.compile(r'[0-9]{2}/{1}[0-9]{2}/{1}[0-9]{2}')\n",
    "item_number = re.compile(r' \\([0-9]{6,6}\\)')\n",
    "cheque_number = re.compile(r' F[0-9]{6,6} ')\n",
    "strata_corp = 'Vbcs'\n",
    "vbcs_table = pd.DataFrame()\n",
    "#pdf_path = \"data/2024Q4.pdf\"  # Path to your PDF file\n",
    "\n"
   ]
  },
  {
   "cell_type": "code",
   "execution_count": null,
   "id": "e358b473",
   "metadata": {},
   "outputs": [],
   "source": [
    "# initial process pdfs\n",
    "pdf_path = \"data/\"  # Path to your PDF file\n",
    "pdf_files = [file for file in os.listdir('data') if file.endswith('.pdf')]\n",
    "concat_list = pd.Series([])\n",
    "\n",
    "for file in pdf_files:\n",
    "    file_path =  pdf_path + file\n",
    "    pdf = pdfplumber.open(file_path)\n",
    "    number_pages = len(pdf.pages)\n",
    "    \n",
    "    for pages in range(0,number_pages): \n",
    "        page = pdf.pages[pages]\n",
    "        text = page.extract_text()\n",
    "        separator = \"Payee Cheque No Exp Date Details Amount($)\\n\"\n",
    "        try:\n",
    "            table = text.split(separator)[1]\n",
    "            table = table.split(\"\\n\")\n",
    "            table = pd.Series(table)\n",
    "            eligible_rows = table.str.contains(item_number)\n",
    "            table = table[eligible_rows]\n",
    "            concat_list =  pd.concat([concat_list,table])\n",
    "        except:\n",
    "            print(\"No more pages\")\n",
    "            break\n"
   ]
  },
  {
   "cell_type": "markdown",
   "id": "5e3f5972",
   "metadata": {},
   "source": [
    "## Functions"
   ]
  },
  {
   "cell_type": "code",
   "execution_count": null,
   "id": "9e89b603",
   "metadata": {},
   "outputs": [],
   "source": [
    "\n",
    "def process_payee(Line_Item, Item_Number, Date_Pattern, Cheque_Number):\n",
    "   \n",
    "   \"\"\"\n",
    "    line items where the strata is NOT the cost center\n",
    "   \"\"\"\n",
    "\n",
    "   cost = re.split(Item_Number, Line_Item)[1]  # print whatever comes after the 6 numbers\n",
    "   cost_date = re.search(Date_Pattern, Line_Item).group()\n",
    "   payee = re.split(Cheque_Number, Line_Item)[0]\n",
    "   details = re.split(Cheque_Number, Line_Item)[1]\n",
    "   details = re.split(Item_Number, details)[0]\n",
    "   details = re.split(Date_Pattern, details)[1]\n",
    "\n",
    "   new_row = pd.DataFrame([{'Payee': payee,\n",
    "    'Details': details,\n",
    "    'Cost date': cost_date,\n",
    "    'Cost': cost}])\n",
    "   \n",
    "   return(new_row, payee)\n",
    "\n",
    "def process_item(Line_Item, Item_Number, Date_Pattern, Payee):\n",
    "    cost_date = re.search(Date_Pattern, Line_Item).group()\n",
    "    cost = re.split(Item_Number, Line_Item)[1]\n",
    "    details = re.split(Item_Number, Line_Item)[0]\n",
    "    details = re.split(Date_Pattern, details)[1]\n",
    "\n",
    "    new_row = pd.DataFrame([{'Payee': Payee,\n",
    "        'Details': details,\n",
    "        'Cost date': cost_date,\n",
    "        'Cost': cost}])\n",
    "    \n",
    "    return(new_row)"
   ]
  },
  {
   "cell_type": "code",
   "execution_count": null,
   "id": "ba59c406",
   "metadata": {},
   "outputs": [],
   "source": [
    "vbcs_table = pd.DataFrame()\n",
    "\n",
    "for line_item in concat_list:\n",
    "    if len(re.split(cheque_number, line_item)) == 2:\n",
    "        new_row, payee = process_payee(line_item, item_number, date_pattern, cheque_number)\n",
    "        vbcs_table = pd.concat([vbcs_table, new_row])\n",
    "\n",
    "    elif len(re.split(cheque_number, line_item)) == 1:\n",
    "        new_row = process_item(line_item, item_number, date_pattern, payee)\n",
    "        vbcs_table = pd.concat([vbcs_table, new_row])\n",
    "\n",
    "    else:\n",
    "        print(\"Unaccounted for item: \"+line_item+\"\\n\")    \n",
    "\n",
    "print(vbcs_table)\n"
   ]
  },
  {
   "cell_type": "code",
   "execution_count": null,
   "id": "7caa6bc8",
   "metadata": {},
   "outputs": [],
   "source": [
    "# convert columns to types\n",
    "vbcs_table['Cost date'] = pd.to_datetime(vbcs_table['Cost date'], format='%d/%m/%y')\n",
    "vbcs_table['Cost'] = vbcs_table['Cost'].str.replace(',', '').astype(float)\n",
    "print(\"Total cost = \" + str(round(vbcs_table['Cost'].sum(),2)))\n",
    "vbcs_table\n",
    "\n"
   ]
  },
  {
   "cell_type": "code",
   "execution_count": null,
   "id": "77095468",
   "metadata": {},
   "outputs": [],
   "source": [
    "toplot = vbcs_table[vbcs_table['Cost date'].dt.year == 2024]\n",
    "#toplot = toplot[toplot['Payee'] != 'Gio']\n",
    "import plotly.express as px\n",
    "# Group by Payee and sum Cost\n",
    "payee_totals = toplot.groupby('Payee', as_index=False)['Cost'].sum()\n",
    "\n",
    "fig = px.bar(\n",
    "    payee_totals,\n",
    "    x='Payee',\n",
    "    y='Cost',\n",
    "    title='Total Cost by Payee (2024)',\n",
    "    labels={'Cost': 'Total Cost ($)'},\n",
    "    color='Payee',\n",
    "    text='Cost'\n",
    ")\n",
    "fig.update_traces(texttemplate='%{text:.2f}', textposition='outside')\n",
    "fig.update_layout(xaxis={'categoryorder':'total descending'})\n",
    "fig.show()"
   ]
  }
 ],
 "metadata": {
  "kernelspec": {
   "display_name": ".venv",
   "language": "python",
   "name": "python3"
  },
  "language_info": {
   "codemirror_mode": {
    "name": "ipython",
    "version": 3
   },
   "file_extension": ".py",
   "mimetype": "text/x-python",
   "name": "python",
   "nbconvert_exporter": "python",
   "pygments_lexer": "ipython3",
   "version": "3.12.7"
  }
 },
 "nbformat": 4,
 "nbformat_minor": 5
}
