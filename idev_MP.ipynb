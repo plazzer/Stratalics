{
 "cells": [
  {
   "cell_type": "code",
   "execution_count": 1,
   "id": "2d4cf002",
   "metadata": {},
   "outputs": [],
   "source": [
    "# import libraries\n",
    "# python 3.12.7\n",
    "import pdfplumber\n",
    "import pandas as pd \n",
    "import re\n",
    "import os\n",
    "from datetime import datetime\n",
    "import kaleido # kaleido must be imported before plotly\n",
    "import plotly.express as px\n",
    "from pandas.tseries.offsets import YearEnd, QuarterEnd"
   ]
  },
  {
   "cell_type": "markdown",
   "id": "f39c1a20",
   "metadata": {},
   "source": [
    "## Variables"
   ]
  },
  {
   "cell_type": "code",
   "execution_count": 2,
   "id": "a8720442",
   "metadata": {},
   "outputs": [],
   "source": [
    "date_pattern = re.compile(r'[0-9]{2}/{1}[0-9]{2}/{1}[0-9]{2}')\n",
    "item_number = re.compile(r' \\([0-9]{6,6}\\)')\n",
    "cheque_number = re.compile(r' F[0-9]{6,6} ')\n",
    "strata_corp = 'Vbcs'\n",
    "vbcs_table = pd.DataFrame()\n",
    "#pdf_path = \"data/2024Q4.pdf\"  # Path to your PDF file\n",
    "\n"
   ]
  },
  {
   "cell_type": "code",
   "execution_count": 3,
   "id": "e358b473",
   "metadata": {},
   "outputs": [
    {
     "name": "stderr",
     "output_type": "stream",
     "text": [
      "CropBox missing from /Page, defaulting to MediaBox\n",
      "CropBox missing from /Page, defaulting to MediaBox\n",
      "CropBox missing from /Page, defaulting to MediaBox\n",
      "CropBox missing from /Page, defaulting to MediaBox\n",
      "CropBox missing from /Page, defaulting to MediaBox\n",
      "CropBox missing from /Page, defaulting to MediaBox\n",
      "CropBox missing from /Page, defaulting to MediaBox\n",
      "CropBox missing from /Page, defaulting to MediaBox\n",
      "CropBox missing from /Page, defaulting to MediaBox\n",
      "CropBox missing from /Page, defaulting to MediaBox\n",
      "CropBox missing from /Page, defaulting to MediaBox\n",
      "CropBox missing from /Page, defaulting to MediaBox\n",
      "CropBox missing from /Page, defaulting to MediaBox\n",
      "CropBox missing from /Page, defaulting to MediaBox\n",
      "CropBox missing from /Page, defaulting to MediaBox\n",
      "CropBox missing from /Page, defaulting to MediaBox\n",
      "CropBox missing from /Page, defaulting to MediaBox\n",
      "CropBox missing from /Page, defaulting to MediaBox\n",
      "CropBox missing from /Page, defaulting to MediaBox\n",
      "CropBox missing from /Page, defaulting to MediaBox\n",
      "CropBox missing from /Page, defaulting to MediaBox\n",
      "CropBox missing from /Page, defaulting to MediaBox\n",
      "CropBox missing from /Page, defaulting to MediaBox\n"
     ]
    },
    {
     "name": "stdout",
     "output_type": "stream",
     "text": [
      "No more pages\n",
      "No more pages\n"
     ]
    },
    {
     "name": "stderr",
     "output_type": "stream",
     "text": [
      "CropBox missing from /Page, defaulting to MediaBox\n",
      "CropBox missing from /Page, defaulting to MediaBox\n",
      "CropBox missing from /Page, defaulting to MediaBox\n",
      "CropBox missing from /Page, defaulting to MediaBox\n",
      "CropBox missing from /Page, defaulting to MediaBox\n",
      "CropBox missing from /Page, defaulting to MediaBox\n",
      "CropBox missing from /Page, defaulting to MediaBox\n"
     ]
    },
    {
     "name": "stdout",
     "output_type": "stream",
     "text": [
      "No more pages\n",
      "No more pages\n"
     ]
    }
   ],
   "source": [
    "# initial process pdfs\n",
    "pdf_path = \"data/\"  # Path to your PDF file\n",
    "pdf_files = [file for file in os.listdir('data') if file.endswith('.pdf')]\n",
    "concat_list = pd.Series([])\n",
    "\n",
    "for file in pdf_files:\n",
    "    file_path =  pdf_path + file\n",
    "    pdf = pdfplumber.open(file_path)\n",
    "    number_pages = len(pdf.pages)\n",
    "    \n",
    "    for pages in range(0,number_pages): \n",
    "        page = pdf.pages[pages]\n",
    "        text = page.extract_text()\n",
    "        separator = \"Payee Cheque No Exp Date Details Amount($)\\n\"\n",
    "        try:\n",
    "            table = text.split(separator)[1]\n",
    "            table = table.split(\"\\n\")\n",
    "            table = pd.Series(table)\n",
    "            eligible_rows = table.str.contains(item_number)\n",
    "            table = table[eligible_rows]\n",
    "            concat_list =  pd.concat([concat_list,table])\n",
    "        except:\n",
    "            print(\"No more pages\")\n",
    "            break\n"
   ]
  },
  {
   "cell_type": "markdown",
   "id": "5e3f5972",
   "metadata": {},
   "source": [
    "## Functions"
   ]
  },
  {
   "cell_type": "code",
   "execution_count": 4,
   "id": "9e89b603",
   "metadata": {},
   "outputs": [],
   "source": [
    "\n",
    "def process_payee(Line_Item, Item_Number, Date_Pattern, Cheque_Number):\n",
    "   \n",
    "   \"\"\"\n",
    "    line items where the strata is NOT the cost center\n",
    "   \"\"\"\n",
    "\n",
    "   cost = re.split(Item_Number, Line_Item)[1]  # print whatever comes after the 6 numbers\n",
    "   cost_date = re.search(Date_Pattern, Line_Item).group()\n",
    "   payee = re.split(Cheque_Number, Line_Item)[0]\n",
    "   details = re.split(Cheque_Number, Line_Item)[1]\n",
    "   details = re.split(Item_Number, details)[0]\n",
    "   details = re.split(Date_Pattern, details)[1]\n",
    "\n",
    "   new_row = pd.DataFrame([{'Payee': payee,\n",
    "    'Details': details,\n",
    "    'Cost date': cost_date,\n",
    "    'Cost': cost}])\n",
    "   \n",
    "   return(new_row, payee)\n",
    "\n",
    "def process_item(Line_Item, Item_Number, Date_Pattern, Payee):\n",
    "    cost_date = re.search(Date_Pattern, Line_Item).group()\n",
    "    cost = re.split(Item_Number, Line_Item)[1]\n",
    "    details = re.split(Item_Number, Line_Item)[0]\n",
    "    details = re.split(Date_Pattern, details)[1]\n",
    "\n",
    "    new_row = pd.DataFrame([{'Payee': Payee,\n",
    "        'Details': details,\n",
    "        'Cost date': cost_date,\n",
    "        'Cost': cost}])\n",
    "    \n",
    "    return(new_row)"
   ]
  },
  {
   "cell_type": "code",
   "execution_count": 5,
   "id": "ba59c406",
   "metadata": {},
   "outputs": [
    {
     "name": "stdout",
     "output_type": "stream",
     "text": [
      "                  Payee                     Details Cost date       Cost\n",
      "0                  Vbcs            Management Fees-  04/10/22   1,185.12\n",
      "0                  Vbcs        Fixed Disbursements-  04/10/22     269.75\n",
      "0                  Vbcs          Interim Financial-  24/10/22      18.75\n",
      "0   The Minders Pty Ltd           Oct 2022-Kt669437  31/10/22     403.88\n",
      "0                  Vbcs         Arrears Notice Fee-  31/10/22      27.50\n",
      "..                  ...                         ...       ...        ...\n",
      "0      Linkfire Pty Ltd   Essential Services-423173  03/11/24     146.44\n",
      "0   The Minders Pty Ltd           Nov 2024-Kt745244  30/11/24     423.92\n",
      "0                  Vbcs           Ins. Renewal Fee-  18/12/24     165.00\n",
      "0                  Vbcs         International Mail-  18/12/24       1.71\n",
      "0   The Minders Pty Ltd           Dec 2024-Kt748133  31/12/24     451.69\n",
      "\n",
      "[68 rows x 4 columns]\n"
     ]
    }
   ],
   "source": [
    "vbcs_table = pd.DataFrame()\n",
    "\n",
    "for line_item in concat_list:\n",
    "    if len(re.split(cheque_number, line_item)) == 2:\n",
    "        new_row, payee = process_payee(line_item, item_number, date_pattern, cheque_number)\n",
    "        vbcs_table = pd.concat([vbcs_table, new_row])\n",
    "\n",
    "    elif len(re.split(cheque_number, line_item)) == 1:\n",
    "        new_row = process_item(line_item, item_number, date_pattern, payee)\n",
    "        vbcs_table = pd.concat([vbcs_table, new_row])\n",
    "\n",
    "    else:\n",
    "        print(\"Unaccounted for item: \"+line_item+\"\\n\")    \n",
    "\n",
    "print(vbcs_table)\n"
   ]
  },
  {
   "cell_type": "code",
   "execution_count": 6,
   "id": "7caa6bc8",
   "metadata": {},
   "outputs": [
    {
     "name": "stdout",
     "output_type": "stream",
     "text": [
      "Total cost = 32277.84\n"
     ]
    },
    {
     "data": {
      "application/vnd.microsoft.datawrangler.viewer.v0+json": {
       "columns": [
        {
         "name": "index",
         "rawType": "int64",
         "type": "integer"
        },
        {
         "name": "Payee",
         "rawType": "object",
         "type": "string"
        },
        {
         "name": "Details",
         "rawType": "object",
         "type": "string"
        },
        {
         "name": "Cost date",
         "rawType": "datetime64[ns]",
         "type": "datetime"
        },
        {
         "name": "Cost",
         "rawType": "float64",
         "type": "float"
        }
       ],
       "conversionMethod": "pd.DataFrame",
       "ref": "f0d19972-48e4-4494-871b-3b229c1774cd",
       "rows": [
        [
         "0",
         "Vbcs",
         " Management Fees-",
         "2022-10-04 00:00:00",
         "1185.12"
        ],
        [
         "0",
         "Vbcs",
         " Fixed Disbursements-",
         "2022-10-04 00:00:00",
         "269.75"
        ],
        [
         "0",
         "Vbcs",
         " Interim Financial-",
         "2022-10-24 00:00:00",
         "18.75"
        ],
        [
         "0",
         "The Minders Pty Ltd",
         " Oct 2022-Kt669437",
         "2022-10-31 00:00:00",
         "403.88"
        ],
        [
         "0",
         "Vbcs",
         " Arrears Notice Fee-",
         "2022-10-31 00:00:00",
         "27.5"
        ],
        [
         "0",
         "Linkfire Pty Ltd",
         " 01.11.22-31.01.23-336428",
         "2022-11-02 00:00:00",
         "130.9"
        ],
        [
         "0",
         "Origin Energy",
         " 11.08.22-10.11.22-152002156192",
         "2022-11-11 00:00:00",
         "215.53"
        ],
        [
         "0",
         "Yarra Valley Water 344366",
         " 20/7-",
         "2022-10-17 00:00:00",
         "69.27"
        ],
        [
         "0",
         "Body Corporate Brokers Pty Ltd",
         " 15.11.22-15.11.23-111424",
         "2022-11-14 00:00:00",
         "9388.61"
        ],
        [
         "0",
         "The Minders Pty Ltd",
         " Nov22 C/Taking-Kt672510",
         "2022-11-30 00:00:00",
         "391.12"
        ],
        [
         "0",
         "Tisher Liner Fc Law",
         " Legal Fees-B84999",
         "2022-11-29 00:00:00",
         "28.26"
        ],
        [
         "0",
         "Vbcs",
         " Data Management-",
         "2022-12-09 00:00:00",
         "55.0"
        ],
        [
         "0",
         "Vbcs",
         " Key Storage Fee-",
         "2022-12-09 00:00:00",
         "19.25"
        ],
        [
         "0",
         "Vbcs",
         " Work Order/Quote Fee-",
         "2022-12-20 00:00:00",
         "11.0"
        ],
        [
         "0",
         "Vbcs",
         " *08 Meetings-",
         "2022-12-20 00:00:00",
         "82.5"
        ],
        [
         "0",
         "Vbcs",
         " Residents Guide-",
         "2022-12-21 00:00:00",
         "242.0"
        ],
        [
         "0",
         "The Minders Pty Ltd",
         " Dec 22-Kt675816",
         "2022-12-31 00:00:00",
         "414.48"
        ],
        [
         "0",
         "Vbcs",
         " Management Fees-",
         "2024-01-02 00:00:00",
         "1244.38"
        ],
        [
         "0",
         "Vbcs",
         " Fixed Disbursements-",
         "2024-01-02 00:00:00",
         "269.75"
        ],
        [
         "0",
         "Vbcs",
         " Interim Financial-",
         "2024-01-02 00:00:00",
         "18.75"
        ],
        [
         "0",
         "Vbcs",
         " Key Storage Fee-",
         "2024-01-02 00:00:00",
         "19.25"
        ],
        [
         "0",
         "Vbcs",
         " Data Management-",
         "2024-01-02 00:00:00",
         "55.0"
        ],
        [
         "0",
         "The Minders Pty Ltd",
         " Dec 2023-Kt713022",
         "2024-01-09 00:00:00",
         "423.92"
        ],
        [
         "0",
         "Vbcs",
         " Arrears Notice Fee-",
         "2024-01-31 00:00:00",
         "27.5"
        ],
        [
         "0",
         "Vbcs",
         " Elec Tender Charge66-",
         "2024-01-31 00:00:00",
         "66.0"
        ],
        [
         "0",
         "The Minders Pty Ltd",
         " Jan 2024-Kt715975",
         "2024-01-31 00:00:00",
         "423.92"
        ],
        [
         "0",
         "Linkfire Pty Ltd",
         " 1/2/24-30/4/24-389286",
         "2024-02-05 00:00:00",
         "140.8"
        ],
        [
         "0",
         "Origin Energy",
         " 10.11.23-9.2.24-67895051",
         "2024-02-12 00:00:00",
         "162.24"
        ],
        [
         "0",
         "The Minders Pty Ltd",
         " Feb 2024-Kt718875",
         "2024-02-29 00:00:00",
         "423.92"
        ],
        [
         "0",
         "Yarra Valley Water 344366",
         " Water-4661386449989",
         "2024-02-20 00:00:00",
         "66.88"
        ],
        [
         "0",
         "Vbcs",
         " Henderson Tax Agent-",
         "2024-03-28 00:00:00",
         "185.0"
        ],
        [
         "0",
         "The Minders Pty Ltd",
         " Mar 2024-Kt721828",
         "2024-03-31 00:00:00",
         "423.92"
        ],
        [
         "0",
         "Vbcs",
         " Management Fees-",
         "2024-07-01 00:00:00",
         "1244.38"
        ],
        [
         "0",
         "Vbcs",
         " Fixed Disbursements-",
         "2024-07-01 00:00:00",
         "269.75"
        ],
        [
         "0",
         "Vbcs",
         " Interim Financial-",
         "2024-07-01 00:00:00",
         "18.75"
        ],
        [
         "0",
         "Vbcs",
         " Key Storage Fee-",
         "2024-07-01 00:00:00",
         "19.25"
        ],
        [
         "0",
         "Vbcs",
         " Data Management-",
         "2024-07-01 00:00:00",
         "55.0"
        ],
        [
         "0",
         "Vbcs",
         " Arrears Notice Fee-",
         "2024-07-30 00:00:00",
         "27.5"
        ],
        [
         "0",
         "Vbcs",
         " Arrears Notice Fee-",
         "2024-07-30 00:00:00",
         "38.5"
        ],
        [
         "0",
         "Vbcs",
         " Invest Prop Summary-",
         "2024-07-30 00:00:00",
         "15.0"
        ],
        [
         "0",
         "Vbcs",
         " Arrears Notice Fee-",
         "2024-07-30 00:00:00",
         "27.5"
        ],
        [
         "0",
         "The Minders Pty Ltd",
         " July 2024-Kt733463",
         "2024-07-31 00:00:00",
         "423.92"
        ],
        [
         "0",
         "Linkfire Pty Ltd",
         " 01.08.24-31.10.24-411647",
         "2024-08-02 00:00:00",
         "146.44"
        ],
        [
         "0",
         "Origin Energy",
         " 01.08.24 To 09.08.24-845710",
         "2024-08-12 00:00:00",
         "199.18"
        ],
        [
         "0",
         "Yarra Valley Water 344366",
         " Water-Overdue 4664 2301 80294",
         "2024-08-14 00:00:00",
         "107.48"
        ],
        [
         "0",
         "The Minders Pty Ltd",
         " Aug 2024-Kt736324",
         "2024-08-31 00:00:00",
         "423.92"
        ],
        [
         "0",
         "Kilburn Plumbing",
         " Anchor Points-145786",
         "2024-08-27 00:00:00",
         "357.5"
        ],
        [
         "0",
         "The Minders Pty Ltd",
         " Sep 2024-Kt739364",
         "2024-09-30 00:00:00",
         "423.92"
        ],
        [
         "0",
         "Vbcs",
         " R&M-Wo/Qr Issuingfee-",
         "2024-09-30 00:00:00",
         "44.0"
        ],
        [
         "0",
         "Vbcs",
         " Management Fees-",
         "2024-10-01 00:00:00",
         "1244.38"
        ]
       ],
       "shape": {
        "columns": 4,
        "rows": 68
       }
      },
      "text/html": [
       "<div>\n",
       "<style scoped>\n",
       "    .dataframe tbody tr th:only-of-type {\n",
       "        vertical-align: middle;\n",
       "    }\n",
       "\n",
       "    .dataframe tbody tr th {\n",
       "        vertical-align: top;\n",
       "    }\n",
       "\n",
       "    .dataframe thead th {\n",
       "        text-align: right;\n",
       "    }\n",
       "</style>\n",
       "<table border=\"1\" class=\"dataframe\">\n",
       "  <thead>\n",
       "    <tr style=\"text-align: right;\">\n",
       "      <th></th>\n",
       "      <th>Payee</th>\n",
       "      <th>Details</th>\n",
       "      <th>Cost date</th>\n",
       "      <th>Cost</th>\n",
       "    </tr>\n",
       "  </thead>\n",
       "  <tbody>\n",
       "    <tr>\n",
       "      <th>0</th>\n",
       "      <td>Vbcs</td>\n",
       "      <td>Management Fees-</td>\n",
       "      <td>2022-10-04</td>\n",
       "      <td>1185.12</td>\n",
       "    </tr>\n",
       "    <tr>\n",
       "      <th>0</th>\n",
       "      <td>Vbcs</td>\n",
       "      <td>Fixed Disbursements-</td>\n",
       "      <td>2022-10-04</td>\n",
       "      <td>269.75</td>\n",
       "    </tr>\n",
       "    <tr>\n",
       "      <th>0</th>\n",
       "      <td>Vbcs</td>\n",
       "      <td>Interim Financial-</td>\n",
       "      <td>2022-10-24</td>\n",
       "      <td>18.75</td>\n",
       "    </tr>\n",
       "    <tr>\n",
       "      <th>0</th>\n",
       "      <td>The Minders Pty Ltd</td>\n",
       "      <td>Oct 2022-Kt669437</td>\n",
       "      <td>2022-10-31</td>\n",
       "      <td>403.88</td>\n",
       "    </tr>\n",
       "    <tr>\n",
       "      <th>0</th>\n",
       "      <td>Vbcs</td>\n",
       "      <td>Arrears Notice Fee-</td>\n",
       "      <td>2022-10-31</td>\n",
       "      <td>27.50</td>\n",
       "    </tr>\n",
       "    <tr>\n",
       "      <th>...</th>\n",
       "      <td>...</td>\n",
       "      <td>...</td>\n",
       "      <td>...</td>\n",
       "      <td>...</td>\n",
       "    </tr>\n",
       "    <tr>\n",
       "      <th>0</th>\n",
       "      <td>Linkfire Pty Ltd</td>\n",
       "      <td>Essential Services-423173</td>\n",
       "      <td>2024-11-03</td>\n",
       "      <td>146.44</td>\n",
       "    </tr>\n",
       "    <tr>\n",
       "      <th>0</th>\n",
       "      <td>The Minders Pty Ltd</td>\n",
       "      <td>Nov 2024-Kt745244</td>\n",
       "      <td>2024-11-30</td>\n",
       "      <td>423.92</td>\n",
       "    </tr>\n",
       "    <tr>\n",
       "      <th>0</th>\n",
       "      <td>Vbcs</td>\n",
       "      <td>Ins. Renewal Fee-</td>\n",
       "      <td>2024-12-18</td>\n",
       "      <td>165.00</td>\n",
       "    </tr>\n",
       "    <tr>\n",
       "      <th>0</th>\n",
       "      <td>Vbcs</td>\n",
       "      <td>International Mail-</td>\n",
       "      <td>2024-12-18</td>\n",
       "      <td>1.71</td>\n",
       "    </tr>\n",
       "    <tr>\n",
       "      <th>0</th>\n",
       "      <td>The Minders Pty Ltd</td>\n",
       "      <td>Dec 2024-Kt748133</td>\n",
       "      <td>2024-12-31</td>\n",
       "      <td>451.69</td>\n",
       "    </tr>\n",
       "  </tbody>\n",
       "</table>\n",
       "<p>68 rows × 4 columns</p>\n",
       "</div>"
      ],
      "text/plain": [
       "                  Payee                     Details  Cost date     Cost\n",
       "0                  Vbcs            Management Fees- 2022-10-04  1185.12\n",
       "0                  Vbcs        Fixed Disbursements- 2022-10-04   269.75\n",
       "0                  Vbcs          Interim Financial- 2022-10-24    18.75\n",
       "0   The Minders Pty Ltd           Oct 2022-Kt669437 2022-10-31   403.88\n",
       "0                  Vbcs         Arrears Notice Fee- 2022-10-31    27.50\n",
       "..                  ...                         ...        ...      ...\n",
       "0      Linkfire Pty Ltd   Essential Services-423173 2024-11-03   146.44\n",
       "0   The Minders Pty Ltd           Nov 2024-Kt745244 2024-11-30   423.92\n",
       "0                  Vbcs           Ins. Renewal Fee- 2024-12-18   165.00\n",
       "0                  Vbcs         International Mail- 2024-12-18     1.71\n",
       "0   The Minders Pty Ltd           Dec 2024-Kt748133 2024-12-31   451.69\n",
       "\n",
       "[68 rows x 4 columns]"
      ]
     },
     "execution_count": 6,
     "metadata": {},
     "output_type": "execute_result"
    }
   ],
   "source": [
    "# convert columns to types\n",
    "vbcs_table['Cost date'] = pd.to_datetime(vbcs_table['Cost date'], format='%d/%m/%y')\n",
    "vbcs_table['Cost'] = vbcs_table['Cost'].str.replace(',', '').astype(float)\n",
    "print(\"Total cost = \" + str(round(vbcs_table['Cost'].sum(),2)))\n",
    "vbcs_table\n",
    "\n"
   ]
  },
  {
   "cell_type": "markdown",
   "id": "36c53ba2",
   "metadata": {},
   "source": [
    "## Plots"
   ]
  },
  {
   "cell_type": "markdown",
   "id": "dfef0216",
   "metadata": {},
   "source": [
    "### Previous four quarters"
   ]
  },
  {
   "cell_type": "code",
   "execution_count": 7,
   "id": "77095468",
   "metadata": {},
   "outputs": [],
   "source": [
    "last_quarter_end = pd.Timestamp('now') - QuarterEnd(1)\n",
    "last_quarter_start_previous_year = last_quarter_end - pd.DateOffset(years = 1) + pd.DateOffset(days = 1)# - QuarterEnd(1)#+ pd.DateOffset(days = 1)\n",
    "\n",
    "prevous_four_quarters = vbcs_table[\n",
    "    (vbcs_table['Cost date'] >= last_quarter_start_previous_year) &\n",
    "    (vbcs_table['Cost date'] <= last_quarter_end)\n",
    "]"
   ]
  },
  {
   "cell_type": "code",
   "execution_count": 8,
   "id": "4706ccb9",
   "metadata": {},
   "outputs": [
    {
     "data": {
      "application/vnd.plotly.v1+json": {
       "config": {
        "plotlyServerURL": "https://plot.ly"
       },
       "data": [
        {
         "hovertemplate": "Payee=%{x}<br>Total Cost ($)=%{text}<extra></extra>",
         "legendgroup": "Bax Clean",
         "marker": {
          "color": "#636efa",
          "pattern": {
           "shape": ""
          }
         },
         "name": "Bax Clean",
         "orientation": "v",
         "showlegend": true,
         "text": {
          "bdata": "AAAAAADAkkA=",
          "dtype": "f8"
         },
         "textposition": "outside",
         "texttemplate": "%{text:.2f}",
         "type": "bar",
         "x": [
          "Bax Clean"
         ],
         "xaxis": "x",
         "y": {
          "bdata": "AAAAAADAkkA=",
          "dtype": "f8"
         },
         "yaxis": "y"
        },
        {
         "hovertemplate": "Payee=%{x}<br>Total Cost ($)=%{text}<extra></extra>",
         "legendgroup": "City Of Stonnington (20198)",
         "marker": {
          "color": "#EF553B",
          "pattern": {
           "shape": ""
          }
         },
         "name": "City Of Stonnington (20198)",
         "orientation": "v",
         "showlegend": true,
         "text": {
          "bdata": "AAAAAACgaUA=",
          "dtype": "f8"
         },
         "textposition": "outside",
         "texttemplate": "%{text:.2f}",
         "type": "bar",
         "x": [
          "City Of Stonnington (20198)"
         ],
         "xaxis": "x",
         "y": {
          "bdata": "AAAAAACgaUA=",
          "dtype": "f8"
         },
         "yaxis": "y"
        },
        {
         "hovertemplate": "Payee=%{x}<br>Total Cost ($)=%{text}<extra></extra>",
         "legendgroup": "Gio",
         "marker": {
          "color": "#00cc96",
          "pattern": {
           "shape": ""
          }
         },
         "name": "Gio",
         "orientation": "v",
         "showlegend": true,
         "text": {
          "bdata": "cT0K1yNIuUA=",
          "dtype": "f8"
         },
         "textposition": "outside",
         "texttemplate": "%{text:.2f}",
         "type": "bar",
         "x": [
          "Gio"
         ],
         "xaxis": "x",
         "y": {
          "bdata": "cT0K1yNIuUA=",
          "dtype": "f8"
         },
         "yaxis": "y"
        },
        {
         "hovertemplate": "Payee=%{x}<br>Total Cost ($)=%{text}<extra></extra>",
         "legendgroup": "Kilburn Plumbing",
         "marker": {
          "color": "#ab63fa",
          "pattern": {
           "shape": ""
          }
         },
         "name": "Kilburn Plumbing",
         "orientation": "v",
         "showlegend": true,
         "text": {
          "bdata": "AAAAAABYdkA=",
          "dtype": "f8"
         },
         "textposition": "outside",
         "texttemplate": "%{text:.2f}",
         "type": "bar",
         "x": [
          "Kilburn Plumbing"
         ],
         "xaxis": "x",
         "y": {
          "bdata": "AAAAAABYdkA=",
          "dtype": "f8"
         },
         "yaxis": "y"
        },
        {
         "hovertemplate": "Payee=%{x}<br>Total Cost ($)=%{text}<extra></extra>",
         "legendgroup": "Linkfire Pty Ltd",
         "marker": {
          "color": "#FFA15A",
          "pattern": {
           "shape": ""
          }
         },
         "name": "Linkfire Pty Ltd",
         "orientation": "v",
         "showlegend": true,
         "text": {
          "bdata": "rkfhehROckA=",
          "dtype": "f8"
         },
         "textposition": "outside",
         "texttemplate": "%{text:.2f}",
         "type": "bar",
         "x": [
          "Linkfire Pty Ltd"
         ],
         "xaxis": "x",
         "y": {
          "bdata": "rkfhehROckA=",
          "dtype": "f8"
         },
         "yaxis": "y"
        },
        {
         "hovertemplate": "Payee=%{x}<br>Total Cost ($)=%{text}<extra></extra>",
         "legendgroup": "Origin Energy",
         "marker": {
          "color": "#19d3f3",
          "pattern": {
           "shape": ""
          }
         },
         "name": "Origin Energy",
         "orientation": "v",
         "showlegend": true,
         "text": {
          "bdata": "XI/C9Sikd0A=",
          "dtype": "f8"
         },
         "textposition": "outside",
         "texttemplate": "%{text:.2f}",
         "type": "bar",
         "x": [
          "Origin Energy"
         ],
         "xaxis": "x",
         "y": {
          "bdata": "XI/C9Sikd0A=",
          "dtype": "f8"
         },
         "yaxis": "y"
        },
        {
         "hovertemplate": "Payee=%{x}<br>Total Cost ($)=%{text}<extra></extra>",
         "legendgroup": "The Minders Pty Ltd",
         "marker": {
          "color": "#FF6692",
          "pattern": {
           "shape": ""
          }
         },
         "name": "The Minders Pty Ltd",
         "orientation": "v",
         "showlegend": true,
         "text": {
          "bdata": "rkfhepRCpEA=",
          "dtype": "f8"
         },
         "textposition": "outside",
         "texttemplate": "%{text:.2f}",
         "type": "bar",
         "x": [
          "The Minders Pty Ltd"
         ],
         "xaxis": "x",
         "y": {
          "bdata": "rkfhepRCpEA=",
          "dtype": "f8"
         },
         "yaxis": "y"
        },
        {
         "hovertemplate": "Payee=%{x}<br>Total Cost ($)=%{text}<extra></extra>",
         "legendgroup": "Vbcs",
         "marker": {
          "color": "#B6E880",
          "pattern": {
           "shape": ""
          }
         },
         "name": "Vbcs",
         "orientation": "v",
         "showlegend": true,
         "text": {
          "bdata": "PgrXo3DJrEA=",
          "dtype": "f8"
         },
         "textposition": "outside",
         "texttemplate": "%{text:.2f}",
         "type": "bar",
         "x": [
          "Vbcs"
         ],
         "xaxis": "x",
         "y": {
          "bdata": "PgrXo3DJrEA=",
          "dtype": "f8"
         },
         "yaxis": "y"
        },
        {
         "hovertemplate": "Payee=%{x}<br>Total Cost ($)=%{text}<extra></extra>",
         "legendgroup": "Yarra Valley Water 344366",
         "marker": {
          "color": "#FF97FF",
          "pattern": {
           "shape": ""
          }
         },
         "name": "Yarra Valley Water 344366",
         "orientation": "v",
         "showlegend": true,
         "text": {
          "bdata": "zczMzMy8Z0A=",
          "dtype": "f8"
         },
         "textposition": "outside",
         "texttemplate": "%{text:.2f}",
         "type": "bar",
         "x": [
          "Yarra Valley Water 344366"
         ],
         "xaxis": "x",
         "y": {
          "bdata": "zczMzMy8Z0A=",
          "dtype": "f8"
         },
         "yaxis": "y"
        }
       ],
       "layout": {
        "barmode": "relative",
        "legend": {
         "title": {
          "text": "Payee"
         },
         "tracegroupgap": 0
        },
        "showlegend": false,
        "template": {
         "data": {
          "bar": [
           {
            "error_x": {
             "color": "#2a3f5f"
            },
            "error_y": {
             "color": "#2a3f5f"
            },
            "marker": {
             "line": {
              "color": "#E5ECF6",
              "width": 0.5
             },
             "pattern": {
              "fillmode": "overlay",
              "size": 10,
              "solidity": 0.2
             }
            },
            "type": "bar"
           }
          ],
          "barpolar": [
           {
            "marker": {
             "line": {
              "color": "#E5ECF6",
              "width": 0.5
             },
             "pattern": {
              "fillmode": "overlay",
              "size": 10,
              "solidity": 0.2
             }
            },
            "type": "barpolar"
           }
          ],
          "carpet": [
           {
            "aaxis": {
             "endlinecolor": "#2a3f5f",
             "gridcolor": "white",
             "linecolor": "white",
             "minorgridcolor": "white",
             "startlinecolor": "#2a3f5f"
            },
            "baxis": {
             "endlinecolor": "#2a3f5f",
             "gridcolor": "white",
             "linecolor": "white",
             "minorgridcolor": "white",
             "startlinecolor": "#2a3f5f"
            },
            "type": "carpet"
           }
          ],
          "choropleth": [
           {
            "colorbar": {
             "outlinewidth": 0,
             "ticks": ""
            },
            "type": "choropleth"
           }
          ],
          "contour": [
           {
            "colorbar": {
             "outlinewidth": 0,
             "ticks": ""
            },
            "colorscale": [
             [
              0,
              "#0d0887"
             ],
             [
              0.1111111111111111,
              "#46039f"
             ],
             [
              0.2222222222222222,
              "#7201a8"
             ],
             [
              0.3333333333333333,
              "#9c179e"
             ],
             [
              0.4444444444444444,
              "#bd3786"
             ],
             [
              0.5555555555555556,
              "#d8576b"
             ],
             [
              0.6666666666666666,
              "#ed7953"
             ],
             [
              0.7777777777777778,
              "#fb9f3a"
             ],
             [
              0.8888888888888888,
              "#fdca26"
             ],
             [
              1,
              "#f0f921"
             ]
            ],
            "type": "contour"
           }
          ],
          "contourcarpet": [
           {
            "colorbar": {
             "outlinewidth": 0,
             "ticks": ""
            },
            "type": "contourcarpet"
           }
          ],
          "heatmap": [
           {
            "colorbar": {
             "outlinewidth": 0,
             "ticks": ""
            },
            "colorscale": [
             [
              0,
              "#0d0887"
             ],
             [
              0.1111111111111111,
              "#46039f"
             ],
             [
              0.2222222222222222,
              "#7201a8"
             ],
             [
              0.3333333333333333,
              "#9c179e"
             ],
             [
              0.4444444444444444,
              "#bd3786"
             ],
             [
              0.5555555555555556,
              "#d8576b"
             ],
             [
              0.6666666666666666,
              "#ed7953"
             ],
             [
              0.7777777777777778,
              "#fb9f3a"
             ],
             [
              0.8888888888888888,
              "#fdca26"
             ],
             [
              1,
              "#f0f921"
             ]
            ],
            "type": "heatmap"
           }
          ],
          "histogram": [
           {
            "marker": {
             "pattern": {
              "fillmode": "overlay",
              "size": 10,
              "solidity": 0.2
             }
            },
            "type": "histogram"
           }
          ],
          "histogram2d": [
           {
            "colorbar": {
             "outlinewidth": 0,
             "ticks": ""
            },
            "colorscale": [
             [
              0,
              "#0d0887"
             ],
             [
              0.1111111111111111,
              "#46039f"
             ],
             [
              0.2222222222222222,
              "#7201a8"
             ],
             [
              0.3333333333333333,
              "#9c179e"
             ],
             [
              0.4444444444444444,
              "#bd3786"
             ],
             [
              0.5555555555555556,
              "#d8576b"
             ],
             [
              0.6666666666666666,
              "#ed7953"
             ],
             [
              0.7777777777777778,
              "#fb9f3a"
             ],
             [
              0.8888888888888888,
              "#fdca26"
             ],
             [
              1,
              "#f0f921"
             ]
            ],
            "type": "histogram2d"
           }
          ],
          "histogram2dcontour": [
           {
            "colorbar": {
             "outlinewidth": 0,
             "ticks": ""
            },
            "colorscale": [
             [
              0,
              "#0d0887"
             ],
             [
              0.1111111111111111,
              "#46039f"
             ],
             [
              0.2222222222222222,
              "#7201a8"
             ],
             [
              0.3333333333333333,
              "#9c179e"
             ],
             [
              0.4444444444444444,
              "#bd3786"
             ],
             [
              0.5555555555555556,
              "#d8576b"
             ],
             [
              0.6666666666666666,
              "#ed7953"
             ],
             [
              0.7777777777777778,
              "#fb9f3a"
             ],
             [
              0.8888888888888888,
              "#fdca26"
             ],
             [
              1,
              "#f0f921"
             ]
            ],
            "type": "histogram2dcontour"
           }
          ],
          "mesh3d": [
           {
            "colorbar": {
             "outlinewidth": 0,
             "ticks": ""
            },
            "type": "mesh3d"
           }
          ],
          "parcoords": [
           {
            "line": {
             "colorbar": {
              "outlinewidth": 0,
              "ticks": ""
             }
            },
            "type": "parcoords"
           }
          ],
          "pie": [
           {
            "automargin": true,
            "type": "pie"
           }
          ],
          "scatter": [
           {
            "fillpattern": {
             "fillmode": "overlay",
             "size": 10,
             "solidity": 0.2
            },
            "type": "scatter"
           }
          ],
          "scatter3d": [
           {
            "line": {
             "colorbar": {
              "outlinewidth": 0,
              "ticks": ""
             }
            },
            "marker": {
             "colorbar": {
              "outlinewidth": 0,
              "ticks": ""
             }
            },
            "type": "scatter3d"
           }
          ],
          "scattercarpet": [
           {
            "marker": {
             "colorbar": {
              "outlinewidth": 0,
              "ticks": ""
             }
            },
            "type": "scattercarpet"
           }
          ],
          "scattergeo": [
           {
            "marker": {
             "colorbar": {
              "outlinewidth": 0,
              "ticks": ""
             }
            },
            "type": "scattergeo"
           }
          ],
          "scattergl": [
           {
            "marker": {
             "colorbar": {
              "outlinewidth": 0,
              "ticks": ""
             }
            },
            "type": "scattergl"
           }
          ],
          "scattermap": [
           {
            "marker": {
             "colorbar": {
              "outlinewidth": 0,
              "ticks": ""
             }
            },
            "type": "scattermap"
           }
          ],
          "scattermapbox": [
           {
            "marker": {
             "colorbar": {
              "outlinewidth": 0,
              "ticks": ""
             }
            },
            "type": "scattermapbox"
           }
          ],
          "scatterpolar": [
           {
            "marker": {
             "colorbar": {
              "outlinewidth": 0,
              "ticks": ""
             }
            },
            "type": "scatterpolar"
           }
          ],
          "scatterpolargl": [
           {
            "marker": {
             "colorbar": {
              "outlinewidth": 0,
              "ticks": ""
             }
            },
            "type": "scatterpolargl"
           }
          ],
          "scatterternary": [
           {
            "marker": {
             "colorbar": {
              "outlinewidth": 0,
              "ticks": ""
             }
            },
            "type": "scatterternary"
           }
          ],
          "surface": [
           {
            "colorbar": {
             "outlinewidth": 0,
             "ticks": ""
            },
            "colorscale": [
             [
              0,
              "#0d0887"
             ],
             [
              0.1111111111111111,
              "#46039f"
             ],
             [
              0.2222222222222222,
              "#7201a8"
             ],
             [
              0.3333333333333333,
              "#9c179e"
             ],
             [
              0.4444444444444444,
              "#bd3786"
             ],
             [
              0.5555555555555556,
              "#d8576b"
             ],
             [
              0.6666666666666666,
              "#ed7953"
             ],
             [
              0.7777777777777778,
              "#fb9f3a"
             ],
             [
              0.8888888888888888,
              "#fdca26"
             ],
             [
              1,
              "#f0f921"
             ]
            ],
            "type": "surface"
           }
          ],
          "table": [
           {
            "cells": {
             "fill": {
              "color": "#EBF0F8"
             },
             "line": {
              "color": "white"
             }
            },
            "header": {
             "fill": {
              "color": "#C8D4E3"
             },
             "line": {
              "color": "white"
             }
            },
            "type": "table"
           }
          ]
         },
         "layout": {
          "annotationdefaults": {
           "arrowcolor": "#2a3f5f",
           "arrowhead": 0,
           "arrowwidth": 1
          },
          "autotypenumbers": "strict",
          "coloraxis": {
           "colorbar": {
            "outlinewidth": 0,
            "ticks": ""
           }
          },
          "colorscale": {
           "diverging": [
            [
             0,
             "#8e0152"
            ],
            [
             0.1,
             "#c51b7d"
            ],
            [
             0.2,
             "#de77ae"
            ],
            [
             0.3,
             "#f1b6da"
            ],
            [
             0.4,
             "#fde0ef"
            ],
            [
             0.5,
             "#f7f7f7"
            ],
            [
             0.6,
             "#e6f5d0"
            ],
            [
             0.7,
             "#b8e186"
            ],
            [
             0.8,
             "#7fbc41"
            ],
            [
             0.9,
             "#4d9221"
            ],
            [
             1,
             "#276419"
            ]
           ],
           "sequential": [
            [
             0,
             "#0d0887"
            ],
            [
             0.1111111111111111,
             "#46039f"
            ],
            [
             0.2222222222222222,
             "#7201a8"
            ],
            [
             0.3333333333333333,
             "#9c179e"
            ],
            [
             0.4444444444444444,
             "#bd3786"
            ],
            [
             0.5555555555555556,
             "#d8576b"
            ],
            [
             0.6666666666666666,
             "#ed7953"
            ],
            [
             0.7777777777777778,
             "#fb9f3a"
            ],
            [
             0.8888888888888888,
             "#fdca26"
            ],
            [
             1,
             "#f0f921"
            ]
           ],
           "sequentialminus": [
            [
             0,
             "#0d0887"
            ],
            [
             0.1111111111111111,
             "#46039f"
            ],
            [
             0.2222222222222222,
             "#7201a8"
            ],
            [
             0.3333333333333333,
             "#9c179e"
            ],
            [
             0.4444444444444444,
             "#bd3786"
            ],
            [
             0.5555555555555556,
             "#d8576b"
            ],
            [
             0.6666666666666666,
             "#ed7953"
            ],
            [
             0.7777777777777778,
             "#fb9f3a"
            ],
            [
             0.8888888888888888,
             "#fdca26"
            ],
            [
             1,
             "#f0f921"
            ]
           ]
          },
          "colorway": [
           "#636efa",
           "#EF553B",
           "#00cc96",
           "#ab63fa",
           "#FFA15A",
           "#19d3f3",
           "#FF6692",
           "#B6E880",
           "#FF97FF",
           "#FECB52"
          ],
          "font": {
           "color": "#2a3f5f"
          },
          "geo": {
           "bgcolor": "white",
           "lakecolor": "white",
           "landcolor": "#E5ECF6",
           "showlakes": true,
           "showland": true,
           "subunitcolor": "white"
          },
          "hoverlabel": {
           "align": "left"
          },
          "hovermode": "closest",
          "mapbox": {
           "style": "light"
          },
          "paper_bgcolor": "white",
          "plot_bgcolor": "#E5ECF6",
          "polar": {
           "angularaxis": {
            "gridcolor": "white",
            "linecolor": "white",
            "ticks": ""
           },
           "bgcolor": "#E5ECF6",
           "radialaxis": {
            "gridcolor": "white",
            "linecolor": "white",
            "ticks": ""
           }
          },
          "scene": {
           "xaxis": {
            "backgroundcolor": "#E5ECF6",
            "gridcolor": "white",
            "gridwidth": 2,
            "linecolor": "white",
            "showbackground": true,
            "ticks": "",
            "zerolinecolor": "white"
           },
           "yaxis": {
            "backgroundcolor": "#E5ECF6",
            "gridcolor": "white",
            "gridwidth": 2,
            "linecolor": "white",
            "showbackground": true,
            "ticks": "",
            "zerolinecolor": "white"
           },
           "zaxis": {
            "backgroundcolor": "#E5ECF6",
            "gridcolor": "white",
            "gridwidth": 2,
            "linecolor": "white",
            "showbackground": true,
            "ticks": "",
            "zerolinecolor": "white"
           }
          },
          "shapedefaults": {
           "line": {
            "color": "#2a3f5f"
           }
          },
          "ternary": {
           "aaxis": {
            "gridcolor": "white",
            "linecolor": "white",
            "ticks": ""
           },
           "baxis": {
            "gridcolor": "white",
            "linecolor": "white",
            "ticks": ""
           },
           "bgcolor": "#E5ECF6",
           "caxis": {
            "gridcolor": "white",
            "linecolor": "white",
            "ticks": ""
           }
          },
          "title": {
           "x": 0.05
          },
          "xaxis": {
           "automargin": true,
           "gridcolor": "white",
           "linecolor": "white",
           "ticks": "",
           "title": {
            "standoff": 15
           },
           "zerolinecolor": "white",
           "zerolinewidth": 2
          },
          "yaxis": {
           "automargin": true,
           "gridcolor": "white",
           "linecolor": "white",
           "ticks": "",
           "title": {
            "standoff": 15
           },
           "zerolinecolor": "white",
           "zerolinewidth": 2
          }
         }
        },
        "title": {
         "subtitle": {
          "text": "Previous four quarters"
         },
         "text": "Total Cost by Payee"
        },
        "xaxis": {
         "anchor": "y",
         "categoryarray": [
          "Bax Clean",
          "City Of Stonnington (20198)",
          "Gio",
          "Kilburn Plumbing",
          "Linkfire Pty Ltd",
          "Origin Energy",
          "The Minders Pty Ltd",
          "Vbcs",
          "Yarra Valley Water 344366"
         ],
         "categoryorder": "total descending",
         "domain": [
          0,
          1
         ],
         "title": {
          "text": "Payee"
         }
        },
        "yaxis": {
         "anchor": "x",
         "domain": [
          0,
          1
         ],
         "range": [
          0,
          7119.354
         ],
         "title": {
          "text": "Total Cost ($)"
         }
        }
       }
      }
     },
     "metadata": {},
     "output_type": "display_data"
    }
   ],
   "source": [
    "toplot = prevous_four_quarters\n",
    "# Group by Payee and sum Cost\n",
    "payee_totals = toplot.groupby('Payee', as_index=False)['Cost'].sum()\n",
    "\n",
    "max_payee = max(payee_totals['Cost']) # used below for formatting\n",
    "\n",
    "fig = px.bar(\n",
    "    payee_totals,\n",
    "    x='Payee',\n",
    "    y='Cost',\n",
    "    title='Total Cost by Payee',\n",
    "    subtitle='Previous four quarters',\n",
    "    labels={'Cost': 'Total Cost ($)'},\n",
    "    color='Payee',\n",
    "    text='Cost'\n",
    ")\n",
    "fig.update_traces(texttemplate='%{text:.2f}', textposition='outside')\n",
    "fig.update_layout(xaxis={'categoryorder':'total descending'})\n",
    "fig.update_layout(yaxis_range=[0, max_payee+max_payee/10]) # to ensure it's not cutoff\n",
    "fig.update_layout(showlegend=False)\n",
    "fig.show()\n",
    "fig.write_image(\"images/costs-previous_four_quarters.pdf\")"
   ]
  },
  {
   "cell_type": "markdown",
   "id": "0ef78505",
   "metadata": {},
   "source": [
    "### Previous calendar year"
   ]
  },
  {
   "cell_type": "code",
   "execution_count": 9,
   "id": "57aa2b3d",
   "metadata": {},
   "outputs": [],
   "source": [
    "last_calendar_year = (pd.Timestamp('now') - pd.DateOffset(years = 1)).year\n",
    "previous_calendar_year = vbcs_table[vbcs_table['Cost date'].dt.year == last_calendar_year]"
   ]
  },
  {
   "cell_type": "code",
   "execution_count": 10,
   "id": "27e32135",
   "metadata": {},
   "outputs": [
    {
     "data": {
      "application/vnd.plotly.v1+json": {
       "config": {
        "plotlyServerURL": "https://plot.ly"
       },
       "data": [
        {
         "hovertemplate": "Payee=%{x}<br>Total Cost ($)=%{text}<extra></extra>",
         "legendgroup": "Bax Clean",
         "marker": {
          "color": "#636efa",
          "pattern": {
           "shape": ""
          }
         },
         "name": "Bax Clean",
         "orientation": "v",
         "showlegend": true,
         "text": {
          "bdata": "AAAAAADAkkA=",
          "dtype": "f8"
         },
         "textposition": "outside",
         "texttemplate": "%{text:.2f}",
         "type": "bar",
         "x": [
          "Bax Clean"
         ],
         "xaxis": "x",
         "y": {
          "bdata": "AAAAAADAkkA=",
          "dtype": "f8"
         },
         "yaxis": "y"
        },
        {
         "hovertemplate": "Payee=%{x}<br>Total Cost ($)=%{text}<extra></extra>",
         "legendgroup": "City Of Stonnington (20198)",
         "marker": {
          "color": "#EF553B",
          "pattern": {
           "shape": ""
          }
         },
         "name": "City Of Stonnington (20198)",
         "orientation": "v",
         "showlegend": true,
         "text": {
          "bdata": "AAAAAACgaUA=",
          "dtype": "f8"
         },
         "textposition": "outside",
         "texttemplate": "%{text:.2f}",
         "type": "bar",
         "x": [
          "City Of Stonnington (20198)"
         ],
         "xaxis": "x",
         "y": {
          "bdata": "AAAAAACgaUA=",
          "dtype": "f8"
         },
         "yaxis": "y"
        },
        {
         "hovertemplate": "Payee=%{x}<br>Total Cost ($)=%{text}<extra></extra>",
         "legendgroup": "Gio",
         "marker": {
          "color": "#00cc96",
          "pattern": {
           "shape": ""
          }
         },
         "name": "Gio",
         "orientation": "v",
         "showlegend": true,
         "text": {
          "bdata": "cT0K1yNIuUA=",
          "dtype": "f8"
         },
         "textposition": "outside",
         "texttemplate": "%{text:.2f}",
         "type": "bar",
         "x": [
          "Gio"
         ],
         "xaxis": "x",
         "y": {
          "bdata": "cT0K1yNIuUA=",
          "dtype": "f8"
         },
         "yaxis": "y"
        },
        {
         "hovertemplate": "Payee=%{x}<br>Total Cost ($)=%{text}<extra></extra>",
         "legendgroup": "Kilburn Plumbing",
         "marker": {
          "color": "#ab63fa",
          "pattern": {
           "shape": ""
          }
         },
         "name": "Kilburn Plumbing",
         "orientation": "v",
         "showlegend": true,
         "text": {
          "bdata": "AAAAAABYdkA=",
          "dtype": "f8"
         },
         "textposition": "outside",
         "texttemplate": "%{text:.2f}",
         "type": "bar",
         "x": [
          "Kilburn Plumbing"
         ],
         "xaxis": "x",
         "y": {
          "bdata": "AAAAAABYdkA=",
          "dtype": "f8"
         },
         "yaxis": "y"
        },
        {
         "hovertemplate": "Payee=%{x}<br>Total Cost ($)=%{text}<extra></extra>",
         "legendgroup": "Linkfire Pty Ltd",
         "marker": {
          "color": "#FFA15A",
          "pattern": {
           "shape": ""
          }
         },
         "name": "Linkfire Pty Ltd",
         "orientation": "v",
         "showlegend": true,
         "text": {
          "bdata": "exSuR+Eae0A=",
          "dtype": "f8"
         },
         "textposition": "outside",
         "texttemplate": "%{text:.2f}",
         "type": "bar",
         "x": [
          "Linkfire Pty Ltd"
         ],
         "xaxis": "x",
         "y": {
          "bdata": "exSuR+Eae0A=",
          "dtype": "f8"
         },
         "yaxis": "y"
        },
        {
         "hovertemplate": "Payee=%{x}<br>Total Cost ($)=%{text}<extra></extra>",
         "legendgroup": "Origin Energy",
         "marker": {
          "color": "#19d3f3",
          "pattern": {
           "shape": ""
          }
         },
         "name": "Origin Energy",
         "orientation": "v",
         "showlegend": true,
         "text": {
          "bdata": "AAAAAADkgEA=",
          "dtype": "f8"
         },
         "textposition": "outside",
         "texttemplate": "%{text:.2f}",
         "type": "bar",
         "x": [
          "Origin Energy"
         ],
         "xaxis": "x",
         "y": {
          "bdata": "AAAAAADkgEA=",
          "dtype": "f8"
         },
         "yaxis": "y"
        },
        {
         "hovertemplate": "Payee=%{x}<br>Total Cost ($)=%{text}<extra></extra>",
         "legendgroup": "The Minders Pty Ltd",
         "marker": {
          "color": "#FF6692",
          "pattern": {
           "shape": ""
          }
         },
         "name": "The Minders Pty Ltd",
         "orientation": "v",
         "showlegend": true,
         "text": {
          "bdata": "H4XrUfjAsEA=",
          "dtype": "f8"
         },
         "textposition": "outside",
         "texttemplate": "%{text:.2f}",
         "type": "bar",
         "x": [
          "The Minders Pty Ltd"
         ],
         "xaxis": "x",
         "y": {
          "bdata": "H4XrUfjAsEA=",
          "dtype": "f8"
         },
         "yaxis": "y"
        },
        {
         "hovertemplate": "Payee=%{x}<br>Total Cost ($)=%{text}<extra></extra>",
         "legendgroup": "Vbcs",
         "marker": {
          "color": "#B6E880",
          "pattern": {
           "shape": ""
          }
         },
         "name": "Vbcs",
         "orientation": "v",
         "showlegend": true,
         "text": {
          "bdata": "mpmZmVnCtUA=",
          "dtype": "f8"
         },
         "textposition": "outside",
         "texttemplate": "%{text:.2f}",
         "type": "bar",
         "x": [
          "Vbcs"
         ],
         "xaxis": "x",
         "y": {
          "bdata": "mpmZmVnCtUA=",
          "dtype": "f8"
         },
         "yaxis": "y"
        },
        {
         "hovertemplate": "Payee=%{x}<br>Total Cost ($)=%{text}<extra></extra>",
         "legendgroup": "Yarra Valley Water 344366",
         "marker": {
          "color": "#FF97FF",
          "pattern": {
           "shape": ""
          }
         },
         "name": "Yarra Valley Water 344366",
         "orientation": "v",
         "showlegend": true,
         "text": {
          "bdata": "FK5H4XoMcEA=",
          "dtype": "f8"
         },
         "textposition": "outside",
         "texttemplate": "%{text:.2f}",
         "type": "bar",
         "x": [
          "Yarra Valley Water 344366"
         ],
         "xaxis": "x",
         "y": {
          "bdata": "FK5H4XoMcEA=",
          "dtype": "f8"
         },
         "yaxis": "y"
        }
       ],
       "layout": {
        "barmode": "relative",
        "legend": {
         "title": {
          "text": "Payee"
         },
         "tracegroupgap": 0
        },
        "showlegend": false,
        "template": {
         "data": {
          "bar": [
           {
            "error_x": {
             "color": "#2a3f5f"
            },
            "error_y": {
             "color": "#2a3f5f"
            },
            "marker": {
             "line": {
              "color": "#E5ECF6",
              "width": 0.5
             },
             "pattern": {
              "fillmode": "overlay",
              "size": 10,
              "solidity": 0.2
             }
            },
            "type": "bar"
           }
          ],
          "barpolar": [
           {
            "marker": {
             "line": {
              "color": "#E5ECF6",
              "width": 0.5
             },
             "pattern": {
              "fillmode": "overlay",
              "size": 10,
              "solidity": 0.2
             }
            },
            "type": "barpolar"
           }
          ],
          "carpet": [
           {
            "aaxis": {
             "endlinecolor": "#2a3f5f",
             "gridcolor": "white",
             "linecolor": "white",
             "minorgridcolor": "white",
             "startlinecolor": "#2a3f5f"
            },
            "baxis": {
             "endlinecolor": "#2a3f5f",
             "gridcolor": "white",
             "linecolor": "white",
             "minorgridcolor": "white",
             "startlinecolor": "#2a3f5f"
            },
            "type": "carpet"
           }
          ],
          "choropleth": [
           {
            "colorbar": {
             "outlinewidth": 0,
             "ticks": ""
            },
            "type": "choropleth"
           }
          ],
          "contour": [
           {
            "colorbar": {
             "outlinewidth": 0,
             "ticks": ""
            },
            "colorscale": [
             [
              0,
              "#0d0887"
             ],
             [
              0.1111111111111111,
              "#46039f"
             ],
             [
              0.2222222222222222,
              "#7201a8"
             ],
             [
              0.3333333333333333,
              "#9c179e"
             ],
             [
              0.4444444444444444,
              "#bd3786"
             ],
             [
              0.5555555555555556,
              "#d8576b"
             ],
             [
              0.6666666666666666,
              "#ed7953"
             ],
             [
              0.7777777777777778,
              "#fb9f3a"
             ],
             [
              0.8888888888888888,
              "#fdca26"
             ],
             [
              1,
              "#f0f921"
             ]
            ],
            "type": "contour"
           }
          ],
          "contourcarpet": [
           {
            "colorbar": {
             "outlinewidth": 0,
             "ticks": ""
            },
            "type": "contourcarpet"
           }
          ],
          "heatmap": [
           {
            "colorbar": {
             "outlinewidth": 0,
             "ticks": ""
            },
            "colorscale": [
             [
              0,
              "#0d0887"
             ],
             [
              0.1111111111111111,
              "#46039f"
             ],
             [
              0.2222222222222222,
              "#7201a8"
             ],
             [
              0.3333333333333333,
              "#9c179e"
             ],
             [
              0.4444444444444444,
              "#bd3786"
             ],
             [
              0.5555555555555556,
              "#d8576b"
             ],
             [
              0.6666666666666666,
              "#ed7953"
             ],
             [
              0.7777777777777778,
              "#fb9f3a"
             ],
             [
              0.8888888888888888,
              "#fdca26"
             ],
             [
              1,
              "#f0f921"
             ]
            ],
            "type": "heatmap"
           }
          ],
          "histogram": [
           {
            "marker": {
             "pattern": {
              "fillmode": "overlay",
              "size": 10,
              "solidity": 0.2
             }
            },
            "type": "histogram"
           }
          ],
          "histogram2d": [
           {
            "colorbar": {
             "outlinewidth": 0,
             "ticks": ""
            },
            "colorscale": [
             [
              0,
              "#0d0887"
             ],
             [
              0.1111111111111111,
              "#46039f"
             ],
             [
              0.2222222222222222,
              "#7201a8"
             ],
             [
              0.3333333333333333,
              "#9c179e"
             ],
             [
              0.4444444444444444,
              "#bd3786"
             ],
             [
              0.5555555555555556,
              "#d8576b"
             ],
             [
              0.6666666666666666,
              "#ed7953"
             ],
             [
              0.7777777777777778,
              "#fb9f3a"
             ],
             [
              0.8888888888888888,
              "#fdca26"
             ],
             [
              1,
              "#f0f921"
             ]
            ],
            "type": "histogram2d"
           }
          ],
          "histogram2dcontour": [
           {
            "colorbar": {
             "outlinewidth": 0,
             "ticks": ""
            },
            "colorscale": [
             [
              0,
              "#0d0887"
             ],
             [
              0.1111111111111111,
              "#46039f"
             ],
             [
              0.2222222222222222,
              "#7201a8"
             ],
             [
              0.3333333333333333,
              "#9c179e"
             ],
             [
              0.4444444444444444,
              "#bd3786"
             ],
             [
              0.5555555555555556,
              "#d8576b"
             ],
             [
              0.6666666666666666,
              "#ed7953"
             ],
             [
              0.7777777777777778,
              "#fb9f3a"
             ],
             [
              0.8888888888888888,
              "#fdca26"
             ],
             [
              1,
              "#f0f921"
             ]
            ],
            "type": "histogram2dcontour"
           }
          ],
          "mesh3d": [
           {
            "colorbar": {
             "outlinewidth": 0,
             "ticks": ""
            },
            "type": "mesh3d"
           }
          ],
          "parcoords": [
           {
            "line": {
             "colorbar": {
              "outlinewidth": 0,
              "ticks": ""
             }
            },
            "type": "parcoords"
           }
          ],
          "pie": [
           {
            "automargin": true,
            "type": "pie"
           }
          ],
          "scatter": [
           {
            "fillpattern": {
             "fillmode": "overlay",
             "size": 10,
             "solidity": 0.2
            },
            "type": "scatter"
           }
          ],
          "scatter3d": [
           {
            "line": {
             "colorbar": {
              "outlinewidth": 0,
              "ticks": ""
             }
            },
            "marker": {
             "colorbar": {
              "outlinewidth": 0,
              "ticks": ""
             }
            },
            "type": "scatter3d"
           }
          ],
          "scattercarpet": [
           {
            "marker": {
             "colorbar": {
              "outlinewidth": 0,
              "ticks": ""
             }
            },
            "type": "scattercarpet"
           }
          ],
          "scattergeo": [
           {
            "marker": {
             "colorbar": {
              "outlinewidth": 0,
              "ticks": ""
             }
            },
            "type": "scattergeo"
           }
          ],
          "scattergl": [
           {
            "marker": {
             "colorbar": {
              "outlinewidth": 0,
              "ticks": ""
             }
            },
            "type": "scattergl"
           }
          ],
          "scattermap": [
           {
            "marker": {
             "colorbar": {
              "outlinewidth": 0,
              "ticks": ""
             }
            },
            "type": "scattermap"
           }
          ],
          "scattermapbox": [
           {
            "marker": {
             "colorbar": {
              "outlinewidth": 0,
              "ticks": ""
             }
            },
            "type": "scattermapbox"
           }
          ],
          "scatterpolar": [
           {
            "marker": {
             "colorbar": {
              "outlinewidth": 0,
              "ticks": ""
             }
            },
            "type": "scatterpolar"
           }
          ],
          "scatterpolargl": [
           {
            "marker": {
             "colorbar": {
              "outlinewidth": 0,
              "ticks": ""
             }
            },
            "type": "scatterpolargl"
           }
          ],
          "scatterternary": [
           {
            "marker": {
             "colorbar": {
              "outlinewidth": 0,
              "ticks": ""
             }
            },
            "type": "scatterternary"
           }
          ],
          "surface": [
           {
            "colorbar": {
             "outlinewidth": 0,
             "ticks": ""
            },
            "colorscale": [
             [
              0,
              "#0d0887"
             ],
             [
              0.1111111111111111,
              "#46039f"
             ],
             [
              0.2222222222222222,
              "#7201a8"
             ],
             [
              0.3333333333333333,
              "#9c179e"
             ],
             [
              0.4444444444444444,
              "#bd3786"
             ],
             [
              0.5555555555555556,
              "#d8576b"
             ],
             [
              0.6666666666666666,
              "#ed7953"
             ],
             [
              0.7777777777777778,
              "#fb9f3a"
             ],
             [
              0.8888888888888888,
              "#fdca26"
             ],
             [
              1,
              "#f0f921"
             ]
            ],
            "type": "surface"
           }
          ],
          "table": [
           {
            "cells": {
             "fill": {
              "color": "#EBF0F8"
             },
             "line": {
              "color": "white"
             }
            },
            "header": {
             "fill": {
              "color": "#C8D4E3"
             },
             "line": {
              "color": "white"
             }
            },
            "type": "table"
           }
          ]
         },
         "layout": {
          "annotationdefaults": {
           "arrowcolor": "#2a3f5f",
           "arrowhead": 0,
           "arrowwidth": 1
          },
          "autotypenumbers": "strict",
          "coloraxis": {
           "colorbar": {
            "outlinewidth": 0,
            "ticks": ""
           }
          },
          "colorscale": {
           "diverging": [
            [
             0,
             "#8e0152"
            ],
            [
             0.1,
             "#c51b7d"
            ],
            [
             0.2,
             "#de77ae"
            ],
            [
             0.3,
             "#f1b6da"
            ],
            [
             0.4,
             "#fde0ef"
            ],
            [
             0.5,
             "#f7f7f7"
            ],
            [
             0.6,
             "#e6f5d0"
            ],
            [
             0.7,
             "#b8e186"
            ],
            [
             0.8,
             "#7fbc41"
            ],
            [
             0.9,
             "#4d9221"
            ],
            [
             1,
             "#276419"
            ]
           ],
           "sequential": [
            [
             0,
             "#0d0887"
            ],
            [
             0.1111111111111111,
             "#46039f"
            ],
            [
             0.2222222222222222,
             "#7201a8"
            ],
            [
             0.3333333333333333,
             "#9c179e"
            ],
            [
             0.4444444444444444,
             "#bd3786"
            ],
            [
             0.5555555555555556,
             "#d8576b"
            ],
            [
             0.6666666666666666,
             "#ed7953"
            ],
            [
             0.7777777777777778,
             "#fb9f3a"
            ],
            [
             0.8888888888888888,
             "#fdca26"
            ],
            [
             1,
             "#f0f921"
            ]
           ],
           "sequentialminus": [
            [
             0,
             "#0d0887"
            ],
            [
             0.1111111111111111,
             "#46039f"
            ],
            [
             0.2222222222222222,
             "#7201a8"
            ],
            [
             0.3333333333333333,
             "#9c179e"
            ],
            [
             0.4444444444444444,
             "#bd3786"
            ],
            [
             0.5555555555555556,
             "#d8576b"
            ],
            [
             0.6666666666666666,
             "#ed7953"
            ],
            [
             0.7777777777777778,
             "#fb9f3a"
            ],
            [
             0.8888888888888888,
             "#fdca26"
            ],
            [
             1,
             "#f0f921"
            ]
           ]
          },
          "colorway": [
           "#636efa",
           "#EF553B",
           "#00cc96",
           "#ab63fa",
           "#FFA15A",
           "#19d3f3",
           "#FF6692",
           "#B6E880",
           "#FF97FF",
           "#FECB52"
          ],
          "font": {
           "color": "#2a3f5f"
          },
          "geo": {
           "bgcolor": "white",
           "lakecolor": "white",
           "landcolor": "#E5ECF6",
           "showlakes": true,
           "showland": true,
           "subunitcolor": "white"
          },
          "hoverlabel": {
           "align": "left"
          },
          "hovermode": "closest",
          "mapbox": {
           "style": "light"
          },
          "paper_bgcolor": "white",
          "plot_bgcolor": "#E5ECF6",
          "polar": {
           "angularaxis": {
            "gridcolor": "white",
            "linecolor": "white",
            "ticks": ""
           },
           "bgcolor": "#E5ECF6",
           "radialaxis": {
            "gridcolor": "white",
            "linecolor": "white",
            "ticks": ""
           }
          },
          "scene": {
           "xaxis": {
            "backgroundcolor": "#E5ECF6",
            "gridcolor": "white",
            "gridwidth": 2,
            "linecolor": "white",
            "showbackground": true,
            "ticks": "",
            "zerolinecolor": "white"
           },
           "yaxis": {
            "backgroundcolor": "#E5ECF6",
            "gridcolor": "white",
            "gridwidth": 2,
            "linecolor": "white",
            "showbackground": true,
            "ticks": "",
            "zerolinecolor": "white"
           },
           "zaxis": {
            "backgroundcolor": "#E5ECF6",
            "gridcolor": "white",
            "gridwidth": 2,
            "linecolor": "white",
            "showbackground": true,
            "ticks": "",
            "zerolinecolor": "white"
           }
          },
          "shapedefaults": {
           "line": {
            "color": "#2a3f5f"
           }
          },
          "ternary": {
           "aaxis": {
            "gridcolor": "white",
            "linecolor": "white",
            "ticks": ""
           },
           "baxis": {
            "gridcolor": "white",
            "linecolor": "white",
            "ticks": ""
           },
           "bgcolor": "#E5ECF6",
           "caxis": {
            "gridcolor": "white",
            "linecolor": "white",
            "ticks": ""
           }
          },
          "title": {
           "x": 0.05
          },
          "xaxis": {
           "automargin": true,
           "gridcolor": "white",
           "linecolor": "white",
           "ticks": "",
           "title": {
            "standoff": 15
           },
           "zerolinecolor": "white",
           "zerolinewidth": 2
          },
          "yaxis": {
           "automargin": true,
           "gridcolor": "white",
           "linecolor": "white",
           "ticks": "",
           "title": {
            "standoff": 15
           },
           "zerolinecolor": "white",
           "zerolinewidth": 2
          }
         }
        },
        "title": {
         "subtitle": {
          "text": "Previous calendar year"
         },
         "text": "Total Cost by Payee"
        },
        "xaxis": {
         "anchor": "y",
         "categoryarray": [
          "Bax Clean",
          "City Of Stonnington (20198)",
          "Gio",
          "Kilburn Plumbing",
          "Linkfire Pty Ltd",
          "Origin Energy",
          "The Minders Pty Ltd",
          "Vbcs",
          "Yarra Valley Water 344366"
         ],
         "categoryorder": "total descending",
         "domain": [
          0,
          1
         ],
         "title": {
          "text": "Payee"
         }
        },
        "yaxis": {
         "anchor": "x",
         "domain": [
          0,
          1
         ],
         "range": [
          0,
          7119.354
         ],
         "title": {
          "text": "Total Cost ($)"
         }
        }
       }
      }
     },
     "metadata": {},
     "output_type": "display_data"
    }
   ],
   "source": [
    "toplot = previous_calendar_year\n",
    "\n",
    "# Group by Payee and sum Cost\n",
    "payee_totals = toplot.groupby('Payee', as_index=False)['Cost'].sum()\n",
    "\n",
    "max_payee = max(payee_totals['Cost']) # used below for formatting\n",
    "\n",
    "fig = px.bar(\n",
    "    payee_totals,\n",
    "    x='Payee',\n",
    "    y='Cost',\n",
    "    title='Total Cost by Payee',\n",
    "    subtitle='Previous calendar year',\n",
    "    labels={'Cost': 'Total Cost ($)'},\n",
    "    color='Payee',\n",
    "    text='Cost'\n",
    ")\n",
    "fig.update_traces(texttemplate='%{text:.2f}', textposition='outside')\n",
    "fig.update_layout(xaxis={'categoryorder':'total descending'})\n",
    "fig.update_layout(yaxis_range=[0, max_payee+max_payee/10]) # to ensure it's not cutoff\n",
    "fig.update_layout(showlegend=False)\n",
    "fig.show()\n",
    "\n",
    "fig.write_image(\"images/costs-previous_calendar_year.pdf\")"
   ]
  },
  {
   "cell_type": "code",
   "execution_count": null,
   "id": "636213f9",
   "metadata": {},
   "outputs": [],
   "source": [
    "\n"
   ]
  }
 ],
 "metadata": {
  "kernelspec": {
   "display_name": ".venv",
   "language": "python",
   "name": "python3"
  },
  "language_info": {
   "codemirror_mode": {
    "name": "ipython",
    "version": 3
   },
   "file_extension": ".py",
   "mimetype": "text/x-python",
   "name": "python",
   "nbconvert_exporter": "python",
   "pygments_lexer": "ipython3",
   "version": "3.12.7"
  }
 },
 "nbformat": 4,
 "nbformat_minor": 5
}
